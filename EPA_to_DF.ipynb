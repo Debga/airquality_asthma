{
 "metadata": {
  "name": "EPA_to_DF"
 },
 "nbformat": 3,
 "nbformat_minor": 0,
 "worksheets": [
  {
   "cells": [
    {
     "cell_type": "markdown",
     "metadata": {},
     "source": [
      "Converting EPA Airquality Data into Pandas DataFrames by County\n",
      "---------------------------------------------------------------"
     ]
    },
    {
     "cell_type": "code",
     "collapsed": false,
     "input": [
      "#Airquality Data comes from https://ofmext.epa.gov/AQDMRS/aqdmrs.html\n",
      "#This queriy include\n",
      "a = open('AQDM_507410362.txt')"
     ],
     "language": "python",
     "metadata": {},
     "outputs": [],
     "prompt_number": 2
    },
    {
     "cell_type": "code",
     "collapsed": false,
     "input": [
      "a"
     ],
     "language": "python",
     "metadata": {},
     "outputs": [
      {
       "output_type": "pyout",
       "prompt_number": 3,
       "text": [
        "<open file 'AQDM_507410362.txt', mode 'r' at 0x9a615a0>"
       ]
      }
     ],
     "prompt_number": 3
    },
    {
     "cell_type": "code",
     "collapsed": false,
     "input": [
      "import pandas as pd\n",
      "from pandas import DataFrame"
     ],
     "language": "python",
     "metadata": {},
     "outputs": [],
     "prompt_number": 4
    },
    {
     "cell_type": "code",
     "collapsed": false,
     "input": [
      "df = pd.read_csv(a)"
     ],
     "language": "python",
     "metadata": {},
     "outputs": [],
     "prompt_number": 5
    },
    {
     "cell_type": "code",
     "collapsed": false,
     "input": [
      "df.head()"
     ],
     "language": "python",
     "metadata": {},
     "outputs": [
      {
       "output_type": "pyout",
       "prompt_number": 6,
       "text": [
        "<class 'pandas.core.frame.DataFrame'>\n",
        "Int64Index: 5 entries, 0 to 4\n",
        "Data columns:\n",
        "Latitude                   5  non-null values\n",
        "Longitude                  5  non-null values\n",
        "Datum                      5  non-null values\n",
        "Horizontal Accuracy        5  non-null values\n",
        "State Code                 5  non-null values\n",
        "County Code                5  non-null values\n",
        "Site Num                   5  non-null values\n",
        "Parameter Code             5  non-null values\n",
        "POC                        5  non-null values\n",
        "AQS Parameter Desc         5  non-null values\n",
        "Date Local                 5  non-null values\n",
        "24 Hour Local              5  non-null values\n",
        "Date GMT                   5  non-null values\n",
        "24 Hour GMT                5  non-null values\n",
        "Year GMT                   5  non-null values\n",
        "Day In Year GMT            5  non-null values\n",
        "Sample Measurement         5  non-null values\n",
        "Units of Measure           5  non-null values\n",
        "Sample Duration            5  non-null values\n",
        "Sample Frequency           0  non-null values\n",
        "Detection Limit            5  non-null values\n",
        "Measurement Uncertainty    0  non-null values\n",
        "Qualifier Description      0  non-null values\n",
        "Method Type                5  non-null values\n",
        "Method Description         5  non-null values\n",
        "dtypes: float64(13), object(12)"
       ]
      }
     ],
     "prompt_number": 6
    },
    {
     "cell_type": "code",
     "collapsed": false,
     "input": [
      "len(df)"
     ],
     "language": "python",
     "metadata": {},
     "outputs": [
      {
       "output_type": "pyout",
       "prompt_number": 7,
       "text": [
        "2995068"
       ]
      }
     ],
     "prompt_number": 7
    },
    {
     "cell_type": "code",
     "collapsed": false,
     "input": [
      "from numpy import array\n",
      "\n",
      "#county_df = df.groupby('County Code')\n",
      "county_df = df.groupby(['County Code','Site Num', 'Latitude', 'Longitude'])\n",
      "\n",
      "county_code = list()\n",
      "sitenum = list()\n",
      "lat = list()\n",
      "lon = list()\n",
      "mean_meas = list()\n",
      "max_meas = list()\n",
      "min_meas = list()\n",
      "median_meas = list()\n",
      "\n",
      "for grpname,grp in county_df:\n",
      "    county_code.append(grpname[0])\n",
      "    sitenum.append(grpname[1])\n",
      "    lat.append(float(grpname[2]))\n",
      "    lon.append(float(grpname[3]))\n",
      "    mean_meas.append(grp['Sample Measurement'].mean())\n",
      "    max_meas.append(grp['Sample Measurement'].max())\n",
      "    min_meas.append(grp['Sample Measurement'].min())\n",
      "    median_meas.append(grp['Sample Measurement'].median())\n",
      "    #print grpname,grp.columns\n",
      "         \n",
      "    #grp['Sample Measurement'].mean(),grp['Sample Measurement'].max(),grp['Sample Measurement'].min(),grp['Sample Measurement'].median()\n",
      "    \n",
      "    \n",
      "    #print 'grp',grpname,'gcnt ---',grp['Latitude'].count(),'mean emission ---',grp['Sample Measurement'].mean(),\n",
      "    \n",
      "    \n",
      "\n"
     ],
     "language": "python",
     "metadata": {},
     "outputs": [],
     "prompt_number": 18
    },
    {
     "cell_type": "code",
     "collapsed": false,
     "input": [
      "sites_dict = {'County Code': county_code, 'Site Num': sitenum, 'Mean Ozone': mean_meas, 'Max Ozone': max_meas, 'Min Ozone': min_meas, 'Median Ozone': median_meas, 'Latitude': lat, 'Longitude': lon}"
     ],
     "language": "python",
     "metadata": {},
     "outputs": [],
     "prompt_number": 19
    },
    {
     "cell_type": "code",
     "collapsed": false,
     "input": [
      "sites_df = DataFrame(sites_dict)"
     ],
     "language": "python",
     "metadata": {},
     "outputs": [],
     "prompt_number": 20
    },
    {
     "cell_type": "code",
     "collapsed": false,
     "input": [
      "print 'Std ', sites_df['Mean Ozone'].std()\n",
      "print 'Mean ',sites_df['Mean Ozone'].mean()\n",
      "print 'Median',sites_df['Mean Ozone'].median()\n",
      "print 'Lat Max',sites_df['Latitude'].max()\n",
      "print 'Lat Min',sites_df['Latitude'].min()\n",
      "print 'Lon Max',sites_df['Longitude'].max()\n",
      "print 'Lon Min',sites_df['Longitude'].min()"
     ],
     "language": "python",
     "metadata": {},
     "outputs": [
      {
       "output_type": "stream",
       "stream": "stdout",
       "text": [
        "Std  0.00994831782491"
       ]
      },
      {
       "output_type": "stream",
       "stream": "stdout",
       "text": [
        "\n",
        "Mean  0.035125235605\n",
        "Median 0.0332733333333\n",
        "Lat Max 41.726892\n",
        "Lat Min 32.552164\n",
        "Lon Max -114.602886\n",
        "Lon Min -124.20139\n"
       ]
      }
     ],
     "prompt_number": 21
    },
    {
     "cell_type": "code",
     "collapsed": false,
     "input": [
      "import matplotlib.pyplot as plt"
     ],
     "language": "python",
     "metadata": {},
     "outputs": [],
     "prompt_number": 22
    },
    {
     "cell_type": "code",
     "collapsed": false,
     "input": [
      "print type(sites_df['Longitude'][0])\n",
      "print type(sites_df['Latitude'][0])\n",
      "plt.scatter(sites_df['Longitude'],sites_df['Latitude'])"
     ],
     "language": "python",
     "metadata": {},
     "outputs": [
      {
       "output_type": "stream",
       "stream": "stdout",
       "text": [
        "<type 'numpy.float64'>\n",
        "<type 'numpy.float64'>\n"
       ]
      },
      {
       "output_type": "pyout",
       "prompt_number": 25,
       "text": [
        "<matplotlib.collections.PathCollection at 0xa9197cc>"
       ]
      }
     ],
     "prompt_number": 25
    },
    {
     "cell_type": "code",
     "collapsed": false,
     "input": [
      "plt.show()"
     ],
     "language": "python",
     "metadata": {},
     "outputs": [],
     "prompt_number": 26
    },
    {
     "cell_type": "code",
     "collapsed": false,
     "input": [
      "sites_df['FIPS'] = sites_df['County Code'].apply(lambda x: '0' + (str(6000 + int(x) )))"
     ],
     "language": "python",
     "metadata": {},
     "outputs": [],
     "prompt_number": 29
    },
    {
     "cell_type": "code",
     "collapsed": false,
     "input": [
      "sites_df['FIPS'][100:110]"
     ],
     "language": "python",
     "metadata": {},
     "outputs": [
      {
       "output_type": "pyout",
       "prompt_number": 32,
       "text": [
        "100    06037\n",
        "101    06037\n",
        "102    06037\n",
        "103    06037\n",
        "104    06037\n",
        "105    06037\n",
        "106    06037\n",
        "107    06037\n",
        "108    06039\n",
        "109    06039\n",
        "Name: FIPS"
       ]
      }
     ],
     "prompt_number": 32
    },
    {
     "cell_type": "code",
     "collapsed": false,
     "input": [],
     "language": "python",
     "metadata": {},
     "outputs": []
    }
   ],
   "metadata": {}
  }
 ]
}